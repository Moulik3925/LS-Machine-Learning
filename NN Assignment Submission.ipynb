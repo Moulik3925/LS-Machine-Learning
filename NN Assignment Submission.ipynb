{
 "cells": [
  {
   "cell_type": "code",
   "execution_count": 25,
   "metadata": {
    "executionInfo": {
     "elapsed": 593,
     "status": "ok",
     "timestamp": 1720276369873,
     "user": {
      "displayName": "T Roy",
      "userId": "03346487709597720736"
     },
     "user_tz": -330
    },
    "id": "SzqjA6jbG-dW"
   },
   "outputs": [],
   "source": [
    "import tensorflow as tf\n",
    "from tensorflow.keras.layers import Dense,Flatten\n",
    "from tensorflow.keras import Input"
   ]
  },
  {
   "cell_type": "code",
   "execution_count": 26,
   "metadata": {
    "colab": {
     "base_uri": "https://localhost:8080/"
    },
    "executionInfo": {
     "elapsed": 759,
     "status": "ok",
     "timestamp": 1720276507396,
     "user": {
      "displayName": "T Roy",
      "userId": "03346487709597720736"
     },
     "user_tz": -330
    },
    "id": "dWOiYzrqIrvB",
    "outputId": "c9fdf06c-b19e-43f6-8401-f891a79ef62b"
   },
   "outputs": [
    {
     "name": "stdout",
     "output_type": "stream",
     "text": [
      "Found 269 files belonging to 2 classes.\n"
     ]
    }
   ],
   "source": [
    "dataset = tf.keras.preprocessing.image_dataset_from_directory(\"homer_bart\",image_size=(64, 64),label_mode = \"binary\")"
   ]
  },
  {
   "cell_type": "code",
   "execution_count": 27,
   "metadata": {
    "executionInfo": {
     "elapsed": 5,
     "status": "ok",
     "timestamp": 1720276507912,
     "user": {
      "displayName": "T Roy",
      "userId": "03346487709597720736"
     },
     "user_tz": -330
    },
    "id": "RSasTq5wRgPz"
   },
   "outputs": [],
   "source": [
    "train_data = dataset.take(8)\n",
    "test_data = dataset.skip(8)\n",
    "train_data = train_data.cache().shuffle(1000).prefetch(buffer_size=tf.data.AUTOTUNE)\n",
    "test_data = test_data.cache().shuffle(1000).prefetch(buffer_size=tf.data.AUTOTUNE)"
   ]
  },
  {
   "cell_type": "code",
   "execution_count": 28,
   "metadata": {
    "executionInfo": {
     "elapsed": 3,
     "status": "ok",
     "timestamp": 1720276507913,
     "user": {
      "displayName": "T Roy",
      "userId": "03346487709597720736"
     },
     "user_tz": -330
    },
    "id": "yID91aluk8jG"
   },
   "outputs": [],
   "source": [
    "preprocess = tf.keras.Sequential([\n",
    "    tf.keras.layers.Reshape((64, 64, 3)),\n",
    "    tf.keras.layers.Rescaling(1./255)\n",
    "])\n",
    "model = tf.keras.Sequential()\n",
    "model.add(Input((64,64,3)))\n",
    "model.add(preprocess)\n",
    "model.add(Flatten())\n",
    "model.add(Dense(64, activation='relu'))\n",
    "model.add(Dense(64, activation='relu'))\n",
    "model.add(Dense(64, activation='sigmoid'))\n",
    "model.add(Dense(2, activation='softmax'))"
   ]
  },
  {
   "cell_type": "code",
   "execution_count": 29,
   "metadata": {
    "executionInfo": {
     "elapsed": 506,
     "status": "ok",
     "timestamp": 1720276514690,
     "user": {
      "displayName": "T Roy",
      "userId": "03346487709597720736"
     },
     "user_tz": -330
    },
    "id": "n8IzestGlVwX"
   },
   "outputs": [],
   "source": [
    "model.compile(\n",
    "    loss=tf.keras.losses.SparseCategoricalCrossentropy(from_logits=False),\n",
    "    optimizer=tf.keras.optimizers.Adam(learning_rate=0.0001),\n",
    "    metrics=['accuracy']\n",
    "    )"
   ]
  },
  {
   "cell_type": "code",
   "execution_count": 30,
   "metadata": {},
   "outputs": [
    {
     "name": "stdout",
     "output_type": "stream",
     "text": [
      "Epoch 1/100\n",
      "8/8 - 1s - 167ms/step - accuracy: 0.5430 - loss: 0.6871 - val_accuracy: 0.6923 - val_loss: 0.6098\n",
      "Epoch 2/100\n",
      "8/8 - 0s - 7ms/step - accuracy: 0.5977 - loss: 0.6512 - val_accuracy: 0.6923 - val_loss: 0.5966\n",
      "Epoch 3/100\n",
      "8/8 - 0s - 6ms/step - accuracy: 0.7227 - loss: 0.6321 - val_accuracy: 0.6923 - val_loss: 0.5644\n",
      "Epoch 4/100\n",
      "8/8 - 0s - 7ms/step - accuracy: 0.6445 - loss: 0.6010 - val_accuracy: 0.6923 - val_loss: 0.5985\n",
      "Epoch 5/100\n",
      "8/8 - 0s - 6ms/step - accuracy: 0.7539 - loss: 0.5929 - val_accuracy: 0.7692 - val_loss: 0.5441\n",
      "Epoch 6/100\n",
      "8/8 - 0s - 7ms/step - accuracy: 0.7773 - loss: 0.5533 - val_accuracy: 0.8462 - val_loss: 0.5095\n",
      "Epoch 7/100\n",
      "8/8 - 0s - 7ms/step - accuracy: 0.7891 - loss: 0.5374 - val_accuracy: 0.6923 - val_loss: 0.5377\n",
      "Epoch 8/100\n",
      "8/8 - 0s - 7ms/step - accuracy: 0.8008 - loss: 0.5062 - val_accuracy: 0.8462 - val_loss: 0.4776\n",
      "Epoch 9/100\n",
      "8/8 - 0s - 8ms/step - accuracy: 0.7773 - loss: 0.5057 - val_accuracy: 0.7692 - val_loss: 0.4838\n",
      "Epoch 10/100\n",
      "8/8 - 0s - 7ms/step - accuracy: 0.7656 - loss: 0.4847 - val_accuracy: 0.6923 - val_loss: 0.5858\n",
      "Epoch 11/100\n",
      "8/8 - 0s - 7ms/step - accuracy: 0.7695 - loss: 0.4960 - val_accuracy: 0.8462 - val_loss: 0.4583\n",
      "Epoch 12/100\n",
      "8/8 - 0s - 6ms/step - accuracy: 0.8320 - loss: 0.4596 - val_accuracy: 0.6923 - val_loss: 0.4773\n",
      "Epoch 13/100\n",
      "8/8 - 0s - 5ms/step - accuracy: 0.8320 - loss: 0.4386 - val_accuracy: 0.7692 - val_loss: 0.4415\n",
      "Epoch 14/100\n",
      "8/8 - 0s - 6ms/step - accuracy: 0.8281 - loss: 0.4297 - val_accuracy: 0.6923 - val_loss: 0.4437\n",
      "Epoch 15/100\n",
      "8/8 - 0s - 7ms/step - accuracy: 0.8320 - loss: 0.4107 - val_accuracy: 0.6923 - val_loss: 0.4470\n",
      "Epoch 16/100\n",
      "8/8 - 0s - 6ms/step - accuracy: 0.8477 - loss: 0.4035 - val_accuracy: 0.7692 - val_loss: 0.4737\n",
      "Epoch 17/100\n",
      "8/8 - 0s - 10ms/step - accuracy: 0.8086 - loss: 0.4312 - val_accuracy: 0.8462 - val_loss: 0.3992\n",
      "Epoch 18/100\n",
      "8/8 - 0s - 7ms/step - accuracy: 0.8320 - loss: 0.4017 - val_accuracy: 0.6923 - val_loss: 0.4174\n",
      "Epoch 19/100\n",
      "8/8 - 0s - 6ms/step - accuracy: 0.8086 - loss: 0.4176 - val_accuracy: 0.7692 - val_loss: 0.4842\n",
      "Epoch 20/100\n",
      "8/8 - 0s - 6ms/step - accuracy: 0.8047 - loss: 0.4119 - val_accuracy: 0.7692 - val_loss: 0.3784\n",
      "Epoch 21/100\n",
      "8/8 - 0s - 6ms/step - accuracy: 0.8828 - loss: 0.3513 - val_accuracy: 0.7692 - val_loss: 0.4003\n",
      "Epoch 22/100\n",
      "8/8 - 0s - 6ms/step - accuracy: 0.8477 - loss: 0.3533 - val_accuracy: 0.6923 - val_loss: 0.3669\n",
      "Epoch 23/100\n",
      "8/8 - 0s - 6ms/step - accuracy: 0.8711 - loss: 0.3336 - val_accuracy: 0.7692 - val_loss: 0.3638\n",
      "Epoch 24/100\n",
      "8/8 - 0s - 6ms/step - accuracy: 0.8789 - loss: 0.3368 - val_accuracy: 0.8462 - val_loss: 0.3304\n",
      "Epoch 25/100\n",
      "8/8 - 0s - 6ms/step - accuracy: 0.8789 - loss: 0.3203 - val_accuracy: 0.8462 - val_loss: 0.3527\n",
      "Epoch 26/100\n",
      "8/8 - 0s - 6ms/step - accuracy: 0.8906 - loss: 0.3154 - val_accuracy: 0.8462 - val_loss: 0.3368\n",
      "Epoch 27/100\n",
      "8/8 - 0s - 6ms/step - accuracy: 0.8789 - loss: 0.3233 - val_accuracy: 0.8462 - val_loss: 0.3091\n",
      "Epoch 28/100\n",
      "8/8 - 0s - 6ms/step - accuracy: 0.9141 - loss: 0.2908 - val_accuracy: 0.8462 - val_loss: 0.3068\n",
      "Epoch 29/100\n",
      "8/8 - 0s - 6ms/step - accuracy: 0.9258 - loss: 0.2758 - val_accuracy: 0.9231 - val_loss: 0.2623\n",
      "Epoch 30/100\n",
      "8/8 - 0s - 5ms/step - accuracy: 0.9219 - loss: 0.2795 - val_accuracy: 0.9231 - val_loss: 0.2482\n",
      "Epoch 31/100\n",
      "8/8 - 0s - 5ms/step - accuracy: 0.8750 - loss: 0.2924 - val_accuracy: 0.6923 - val_loss: 0.5003\n",
      "Epoch 32/100\n",
      "8/8 - 0s - 6ms/step - accuracy: 0.8320 - loss: 0.3648 - val_accuracy: 0.9231 - val_loss: 0.2390\n",
      "Epoch 33/100\n",
      "8/8 - 0s - 6ms/step - accuracy: 0.9258 - loss: 0.2664 - val_accuracy: 0.9231 - val_loss: 0.2420\n",
      "Epoch 34/100\n",
      "8/8 - 0s - 6ms/step - accuracy: 0.9023 - loss: 0.2814 - val_accuracy: 0.8462 - val_loss: 0.2676\n",
      "Epoch 35/100\n",
      "8/8 - 0s - 6ms/step - accuracy: 0.9102 - loss: 0.2644 - val_accuracy: 0.8462 - val_loss: 0.3361\n",
      "Epoch 36/100\n",
      "8/8 - 0s - 6ms/step - accuracy: 0.9336 - loss: 0.2280 - val_accuracy: 1.0000 - val_loss: 0.2143\n",
      "Epoch 37/100\n",
      "8/8 - 0s - 6ms/step - accuracy: 0.9531 - loss: 0.2182 - val_accuracy: 1.0000 - val_loss: 0.1954\n",
      "Epoch 38/100\n",
      "8/8 - 0s - 5ms/step - accuracy: 0.9648 - loss: 0.2037 - val_accuracy: 0.8462 - val_loss: 0.2338\n",
      "Epoch 39/100\n",
      "8/8 - 0s - 6ms/step - accuracy: 0.9688 - loss: 0.2032 - val_accuracy: 1.0000 - val_loss: 0.1900\n",
      "Epoch 40/100\n",
      "8/8 - 0s - 6ms/step - accuracy: 0.9727 - loss: 0.1867 - val_accuracy: 1.0000 - val_loss: 0.1662\n",
      "Epoch 41/100\n",
      "8/8 - 0s - 6ms/step - accuracy: 0.9688 - loss: 0.1860 - val_accuracy: 1.0000 - val_loss: 0.1747\n",
      "Epoch 42/100\n",
      "8/8 - 0s - 5ms/step - accuracy: 0.9805 - loss: 0.1718 - val_accuracy: 1.0000 - val_loss: 0.1756\n",
      "Epoch 43/100\n",
      "8/8 - 0s - 5ms/step - accuracy: 0.9805 - loss: 0.1671 - val_accuracy: 1.0000 - val_loss: 0.1435\n",
      "Epoch 44/100\n",
      "8/8 - 0s - 6ms/step - accuracy: 0.9727 - loss: 0.1607 - val_accuracy: 1.0000 - val_loss: 0.1804\n",
      "Epoch 45/100\n",
      "8/8 - 0s - 6ms/step - accuracy: 0.9727 - loss: 0.1615 - val_accuracy: 1.0000 - val_loss: 0.1768\n",
      "Epoch 46/100\n",
      "8/8 - 0s - 6ms/step - accuracy: 0.9805 - loss: 0.1570 - val_accuracy: 1.0000 - val_loss: 0.1249\n",
      "Epoch 47/100\n",
      "8/8 - 0s - 6ms/step - accuracy: 0.9883 - loss: 0.1503 - val_accuracy: 1.0000 - val_loss: 0.1208\n",
      "Epoch 48/100\n",
      "8/8 - 0s - 5ms/step - accuracy: 0.9766 - loss: 0.1516 - val_accuracy: 1.0000 - val_loss: 0.1279\n",
      "Epoch 49/100\n",
      "8/8 - 0s - 5ms/step - accuracy: 0.9766 - loss: 0.1578 - val_accuracy: 1.0000 - val_loss: 0.1156\n",
      "Epoch 50/100\n",
      "8/8 - 0s - 6ms/step - accuracy: 0.9766 - loss: 0.1448 - val_accuracy: 1.0000 - val_loss: 0.1194\n",
      "Epoch 51/100\n",
      "8/8 - 0s - 6ms/step - accuracy: 0.9805 - loss: 0.1379 - val_accuracy: 1.0000 - val_loss: 0.1683\n",
      "Epoch 52/100\n",
      "8/8 - 0s - 6ms/step - accuracy: 0.9844 - loss: 0.1422 - val_accuracy: 0.9231 - val_loss: 0.2034\n",
      "Epoch 53/100\n",
      "8/8 - 0s - 5ms/step - accuracy: 0.9766 - loss: 0.1443 - val_accuracy: 1.0000 - val_loss: 0.1692\n",
      "Epoch 54/100\n",
      "8/8 - 0s - 5ms/step - accuracy: 0.9883 - loss: 0.1259 - val_accuracy: 1.0000 - val_loss: 0.0994\n",
      "Epoch 55/100\n",
      "8/8 - 0s - 6ms/step - accuracy: 0.9961 - loss: 0.1079 - val_accuracy: 1.0000 - val_loss: 0.0933\n",
      "Epoch 56/100\n",
      "8/8 - 0s - 5ms/step - accuracy: 0.9961 - loss: 0.1042 - val_accuracy: 1.0000 - val_loss: 0.0928\n",
      "Epoch 57/100\n",
      "8/8 - 0s - 6ms/step - accuracy: 0.9922 - loss: 0.0993 - val_accuracy: 1.0000 - val_loss: 0.1104\n",
      "Epoch 58/100\n",
      "8/8 - 0s - 6ms/step - accuracy: 0.9922 - loss: 0.1001 - val_accuracy: 1.0000 - val_loss: 0.0872\n",
      "Epoch 59/100\n",
      "8/8 - 0s - 7ms/step - accuracy: 0.9961 - loss: 0.0945 - val_accuracy: 1.0000 - val_loss: 0.0809\n",
      "Epoch 60/100\n",
      "8/8 - 0s - 6ms/step - accuracy: 0.9961 - loss: 0.0952 - val_accuracy: 1.0000 - val_loss: 0.0800\n",
      "Epoch 61/100\n",
      "8/8 - 0s - 5ms/step - accuracy: 0.9961 - loss: 0.0905 - val_accuracy: 1.0000 - val_loss: 0.1007\n",
      "Epoch 62/100\n",
      "8/8 - 0s - 5ms/step - accuracy: 0.9961 - loss: 0.0903 - val_accuracy: 1.0000 - val_loss: 0.0841\n",
      "Epoch 63/100\n",
      "8/8 - 0s - 8ms/step - accuracy: 0.9961 - loss: 0.0821 - val_accuracy: 1.0000 - val_loss: 0.0764\n",
      "Epoch 64/100\n",
      "8/8 - 0s - 6ms/step - accuracy: 0.9961 - loss: 0.0794 - val_accuracy: 1.0000 - val_loss: 0.0729\n",
      "Epoch 65/100\n",
      "8/8 - 0s - 5ms/step - accuracy: 1.0000 - loss: 0.0753 - val_accuracy: 1.0000 - val_loss: 0.0713\n",
      "Epoch 66/100\n",
      "8/8 - 0s - 5ms/step - accuracy: 0.9961 - loss: 0.0741 - val_accuracy: 1.0000 - val_loss: 0.0660\n",
      "Epoch 67/100\n",
      "8/8 - 0s - 5ms/step - accuracy: 0.9961 - loss: 0.0712 - val_accuracy: 1.0000 - val_loss: 0.0629\n",
      "Epoch 68/100\n",
      "8/8 - 0s - 6ms/step - accuracy: 0.9961 - loss: 0.0689 - val_accuracy: 1.0000 - val_loss: 0.0611\n",
      "Epoch 69/100\n",
      "8/8 - 0s - 5ms/step - accuracy: 0.9961 - loss: 0.0687 - val_accuracy: 1.0000 - val_loss: 0.0722\n",
      "Epoch 70/100\n",
      "8/8 - 0s - 6ms/step - accuracy: 1.0000 - loss: 0.0662 - val_accuracy: 1.0000 - val_loss: 0.0612\n",
      "Epoch 71/100\n",
      "8/8 - 0s - 5ms/step - accuracy: 1.0000 - loss: 0.0630 - val_accuracy: 1.0000 - val_loss: 0.0567\n",
      "Epoch 72/100\n",
      "8/8 - 0s - 6ms/step - accuracy: 1.0000 - loss: 0.0605 - val_accuracy: 1.0000 - val_loss: 0.0683\n",
      "Epoch 73/100\n",
      "8/8 - 0s - 5ms/step - accuracy: 1.0000 - loss: 0.0614 - val_accuracy: 1.0000 - val_loss: 0.0562\n",
      "Epoch 74/100\n",
      "8/8 - 0s - 5ms/step - accuracy: 1.0000 - loss: 0.0577 - val_accuracy: 1.0000 - val_loss: 0.0542\n",
      "Epoch 75/100\n",
      "8/8 - 0s - 6ms/step - accuracy: 0.9961 - loss: 0.0633 - val_accuracy: 1.0000 - val_loss: 0.0532\n",
      "Epoch 76/100\n",
      "8/8 - 0s - 5ms/step - accuracy: 1.0000 - loss: 0.0564 - val_accuracy: 1.0000 - val_loss: 0.0528\n",
      "Epoch 77/100\n",
      "8/8 - 0s - 5ms/step - accuracy: 1.0000 - loss: 0.0530 - val_accuracy: 1.0000 - val_loss: 0.0524\n",
      "Epoch 78/100\n",
      "8/8 - 0s - 6ms/step - accuracy: 1.0000 - loss: 0.0513 - val_accuracy: 1.0000 - val_loss: 0.0540\n",
      "Epoch 79/100\n",
      "8/8 - 0s - 6ms/step - accuracy: 1.0000 - loss: 0.0494 - val_accuracy: 1.0000 - val_loss: 0.0473\n",
      "Epoch 80/100\n",
      "8/8 - 0s - 6ms/step - accuracy: 1.0000 - loss: 0.0560 - val_accuracy: 1.0000 - val_loss: 0.0451\n",
      "Epoch 81/100\n",
      "8/8 - 0s - 7ms/step - accuracy: 1.0000 - loss: 0.0505 - val_accuracy: 1.0000 - val_loss: 0.0508\n",
      "Epoch 82/100\n",
      "8/8 - 0s - 6ms/step - accuracy: 1.0000 - loss: 0.0474 - val_accuracy: 1.0000 - val_loss: 0.0482\n",
      "Epoch 83/100\n",
      "8/8 - 0s - 5ms/step - accuracy: 1.0000 - loss: 0.0458 - val_accuracy: 1.0000 - val_loss: 0.0413\n",
      "Epoch 84/100\n",
      "8/8 - 0s - 6ms/step - accuracy: 1.0000 - loss: 0.0447 - val_accuracy: 1.0000 - val_loss: 0.0403\n",
      "Epoch 85/100\n",
      "8/8 - 0s - 5ms/step - accuracy: 1.0000 - loss: 0.0441 - val_accuracy: 1.0000 - val_loss: 0.0537\n",
      "Epoch 86/100\n",
      "8/8 - 0s - 5ms/step - accuracy: 1.0000 - loss: 0.0418 - val_accuracy: 1.0000 - val_loss: 0.0383\n",
      "Epoch 87/100\n",
      "8/8 - 0s - 5ms/step - accuracy: 1.0000 - loss: 0.0402 - val_accuracy: 1.0000 - val_loss: 0.0379\n",
      "Epoch 88/100\n",
      "8/8 - 0s - 5ms/step - accuracy: 1.0000 - loss: 0.0387 - val_accuracy: 1.0000 - val_loss: 0.0365\n",
      "Epoch 89/100\n",
      "8/8 - 0s - 6ms/step - accuracy: 1.0000 - loss: 0.0373 - val_accuracy: 1.0000 - val_loss: 0.0358\n",
      "Epoch 90/100\n",
      "8/8 - 0s - 5ms/step - accuracy: 1.0000 - loss: 0.0358 - val_accuracy: 1.0000 - val_loss: 0.0343\n",
      "Epoch 91/100\n",
      "8/8 - 0s - 5ms/step - accuracy: 1.0000 - loss: 0.0356 - val_accuracy: 1.0000 - val_loss: 0.0408\n",
      "Epoch 92/100\n",
      "8/8 - 0s - 5ms/step - accuracy: 1.0000 - loss: 0.0341 - val_accuracy: 1.0000 - val_loss: 0.0326\n",
      "Epoch 93/100\n",
      "8/8 - 0s - 5ms/step - accuracy: 1.0000 - loss: 0.0327 - val_accuracy: 1.0000 - val_loss: 0.0332\n",
      "Epoch 94/100\n",
      "8/8 - 0s - 6ms/step - accuracy: 1.0000 - loss: 0.0321 - val_accuracy: 1.0000 - val_loss: 0.0330\n",
      "Epoch 95/100\n",
      "8/8 - 0s - 6ms/step - accuracy: 1.0000 - loss: 0.0317 - val_accuracy: 1.0000 - val_loss: 0.0307\n",
      "Epoch 96/100\n",
      "8/8 - 0s - 6ms/step - accuracy: 1.0000 - loss: 0.0301 - val_accuracy: 1.0000 - val_loss: 0.0308\n",
      "Epoch 97/100\n",
      "8/8 - 0s - 5ms/step - accuracy: 1.0000 - loss: 0.0299 - val_accuracy: 1.0000 - val_loss: 0.0328\n",
      "Epoch 98/100\n",
      "8/8 - 0s - 6ms/step - accuracy: 1.0000 - loss: 0.0292 - val_accuracy: 1.0000 - val_loss: 0.0285\n",
      "Epoch 99/100\n",
      "8/8 - 0s - 6ms/step - accuracy: 1.0000 - loss: 0.0282 - val_accuracy: 1.0000 - val_loss: 0.0285\n",
      "Epoch 100/100\n",
      "8/8 - 0s - 6ms/step - accuracy: 1.0000 - loss: 0.0274 - val_accuracy: 1.0000 - val_loss: 0.0278\n"
     ]
    },
    {
     "data": {
      "text/plain": [
       "<keras.src.callbacks.history.History at 0x29016c5ad50>"
      ]
     },
     "execution_count": 30,
     "metadata": {},
     "output_type": "execute_result"
    }
   ],
   "source": [
    "\n",
    "model.fit(train_data,\n",
    "          epochs = 100,\n",
    "          batch_size = 32,\n",
    "          verbose=2,\n",
    "          validation_data = test_data)"
   ]
  }
 ],
 "metadata": {
  "accelerator": "GPU",
  "colab": {
   "authorship_tag": "ABX9TyOJKT1vvaSEPBbFKaqp78uD",
   "gpuType": "T4",
   "provenance": []
  },
  "kernelspec": {
   "display_name": "Python 3 (ipykernel)",
   "language": "python",
   "name": "python3"
  },
  "language_info": {
   "codemirror_mode": {
    "name": "ipython",
    "version": 3
   },
   "file_extension": ".py",
   "mimetype": "text/x-python",
   "name": "python",
   "nbconvert_exporter": "python",
   "pygments_lexer": "ipython3",
   "version": "3.12.1"
  }
 },
 "nbformat": 4,
 "nbformat_minor": 4
}
